{
 "cells": [
  {
   "cell_type": "markdown",
   "metadata": {},
   "source": [
    "# Machine learning within data science"
   ]
  },
  {
   "cell_type": "markdown",
   "metadata": {},
   "source": [
    "Test Code By <a href=\"https://www.facebook.com/peny.ismail.77\">Peny Ismail</a> - <a href=\"https://github.com/peny77\">Github</a>"
   ]
  },
  {
   "cell_type": "markdown",
   "metadata": {},
   "source": [
    "**Pembelajaran mesin mencakup 2 jenis utama analisis data:**\n",
    "1. Analisis eksplorasi: Pembelajaran tanpa pengawasan. \n",
    "Temukan struktur dalam data. misalnya korelasi gaji dalam tahun di suatu perusahaan.\n",
    "2. Analisis prediktif: Pembelajaran terawasi. \n",
    "Ini kadang-kadang digambarkan sebagai \"belajar dari masa lalu untuk memprediksi masa depan\". \n",
    "Misalnya: Perusahaan ingin mendeteksi calon klien di masa depan di antara basis prospek. \n",
    "\n",
    "**Retrospektif analisis data**: Menelusuri data yang terdiri dari perusahaan-perusahaan yang prospektif sebelumnya, dengan karakteristiknya (size, domain, localization, dll.). \n",
    "\n",
    "Dalam contoh ini, data pelatihan terdiri dari serangkaian sampel pelatihan.\n",
    "Setiap sampel, 𝑥𝑖, adalah vektor fitur input p (karakteristik perusahaan) dan fitur target (𝑦𝑖 ∈ {𝑌 𝑒𝑠, 𝑁𝑜}\n",
    "(apakah mereka menjadi klien atau tidak)."
   ]
  },
  {
   "cell_type": "markdown",
   "metadata": {},
   "source": [
    "### 1. IT/computing science tools"
   ]
  },
  {
   "cell_type": "markdown",
   "metadata": {},
   "source": [
    "* High Performance Computing (HPC)\n",
    "* Data flow, data base, file I/O, etc.\n",
    "* Python: the programming language.\n",
    "* Numpy: library python yang sangat berguna untuk penanganan data numerik mentah (matriks, operasi matematika)\n",
    "* Pandas: input/output, manipulasi data terstruktur (tabel)."
   ]
  },
  {
   "cell_type": "markdown",
   "metadata": {},
   "source": [
    "### 2. Statistics and applied mathematics"
   ]
  },
  {
   "cell_type": "markdown",
   "metadata": {},
   "source": [
    "Statistik dan matematika terapan"
   ]
  },
  {
   "cell_type": "markdown",
   "metadata": {},
   "source": [
    "* Linear model.\n",
    "* Non parametric statistics.\n",
    "* Linear algebra: matrix operations, inversion, eigenvalues."
   ]
  },
  {
   "cell_type": "markdown",
   "metadata": {},
   "source": [
    "## PYTHON LANGUAGE"
   ]
  },
  {
   "cell_type": "markdown",
   "metadata": {},
   "source": [
    "### Import Libraries"
   ]
  },
  {
   "cell_type": "markdown",
   "metadata": {},
   "source": [
    "impor generik dari modul matematika"
   ]
  },
  {
   "cell_type": "code",
   "execution_count": 4,
   "metadata": {},
   "outputs": [
    {
     "data": {
      "text/plain": [
       "5.0"
      ]
     },
     "execution_count": 4,
     "metadata": {},
     "output_type": "execute_result"
    }
   ],
   "source": [
    "# impor generik dari modul matematika\n",
    "import math\n",
    "math.sqrt(25)"
   ]
  },
  {
   "cell_type": "markdown",
   "metadata": {},
   "source": [
    "impor fungsi"
   ]
  },
  {
   "cell_type": "code",
   "execution_count": 5,
   "metadata": {},
   "outputs": [
    {
     "data": {
      "text/plain": [
       "5.0"
      ]
     },
     "execution_count": 5,
     "metadata": {},
     "output_type": "execute_result"
    }
   ],
   "source": [
    "# impor fungsi\n",
    "from math import sqrt\n",
    "sqrt(25)"
   ]
  },
  {
   "cell_type": "markdown",
   "metadata": {},
   "source": [
    "impor beberapa fungsi"
   ]
  },
  {
   "cell_type": "code",
   "execution_count": 11,
   "metadata": {},
   "outputs": [
    {
     "data": {
      "text/plain": [
       "0.15425144988758405"
      ]
     },
     "execution_count": 11,
     "metadata": {},
     "output_type": "execute_result"
    }
   ],
   "source": [
    "# impor beberapa fungsi\n",
    "from math import cos, floor\n",
    "cos(30)"
   ]
  },
  {
   "cell_type": "markdown",
   "metadata": {},
   "source": [
    "Menentukan alias (as)"
   ]
  },
  {
   "cell_type": "code",
   "execution_count": 13,
   "metadata": {},
   "outputs": [],
   "source": [
    "# menentukan alias\n",
    "import numpy as np"
   ]
  },
  {
   "cell_type": "markdown",
   "metadata": {},
   "source": [
    "Menampilkan semua fungsi dalam modul matematika"
   ]
  },
  {
   "cell_type": "code",
   "execution_count": 18,
   "metadata": {},
   "outputs": [
    {
     "name": "stdout",
     "output_type": "stream",
     "text": [
      "['__doc__', '__loader__', '__name__', '__package__', '__spec__', 'acos', 'acosh', 'asin', 'asinh', 'atan', 'atan2', 'atanh', 'ceil', 'copysign', 'cos', 'cosh', 'degrees', 'e', 'erf', 'erfc', 'exp', 'expm1', 'fabs', 'factorial', 'floor', 'fmod', 'frexp', 'fsum', 'gamma', 'gcd', 'hypot', 'inf', 'isclose', 'isfinite', 'isinf', 'isnan', 'ldexp', 'lgamma', 'log', 'log10', 'log1p', 'log2', 'modf', 'nan', 'pi', 'pow', 'radians', 'remainder', 'sin', 'sinh', 'sqrt', 'tan', 'tanh', 'tau', 'trunc']\n"
     ]
    }
   ],
   "source": [
    "content = dir(math)\n",
    "print(content)"
   ]
  },
  {
   "cell_type": "markdown",
   "metadata": {},
   "source": [
    "### Basic operations"
   ]
  },
  {
   "cell_type": "code",
   "execution_count": 25,
   "metadata": {},
   "outputs": [
    {
     "name": "stdout",
     "output_type": "stream",
     "text": [
      "Add 64\n",
      "Subtract -26\n",
      "Multiply 855\n",
      "Exponent 3498743002442937227729601361122964878585526371203662724899\n",
      "Devide Int 0.4222222222222222\n",
      "Devide 0.4222222222222222\n",
      "True Division 7\n",
      "Floor Division 2\n"
     ]
    }
   ],
   "source": [
    "# Angka\n",
    "print('Add',19 + 45)\n",
    "print('Subtract',19 - 45)\n",
    "print('Multiply',19 * 45)\n",
    "print('Exponent',19 ** 45)\n",
    "print('Devide Int',19 / 45)\n",
    "print('Devide',19 / float(45))\n",
    "print('True Division',45 % 19)\n",
    "print('Floor Division',45 // 19 )"
   ]
  },
  {
   "cell_type": "code",
   "execution_count": 30,
   "metadata": {},
   "outputs": [
    {
     "name": "stdout",
     "output_type": "stream",
     "text": [
      "False\n",
      "True\n",
      "True\n",
      "False\n"
     ]
    }
   ],
   "source": [
    "# Operasi Boolean\n",
    "print(19>45)\n",
    "print(45>=19)\n",
    "print(19!=45)\n",
    "print(19==45)"
   ]
  },
  {
   "cell_type": "markdown",
   "metadata": {},
   "source": [
    "### Data types"
   ]
  },
  {
   "cell_type": "code",
   "execution_count": 36,
   "metadata": {},
   "outputs": [
    {
     "name": "stdout",
     "output_type": "stream",
     "text": [
      "Tipe data <class 'int'>\n",
      "Tipe data <class 'float'>\n",
      "Tipe data <class 'str'>\n",
      "Tipe data <class 'bool'>\n",
      "Tipe data <class 'NoneType'>\n"
     ]
    }
   ],
   "source": [
    "# Tipe data\n",
    "print('Tipe data',type(2))\n",
    "print('Tipe data',type(2.0))\n",
    "print('Tipe data',type('iS'))\n",
    "print('Tipe data',type(True))\n",
    "print('Tipe data',type(None))"
   ]
  },
  {
   "cell_type": "code",
   "execution_count": 38,
   "metadata": {},
   "outputs": [
    {
     "name": "stdout",
     "output_type": "stream",
     "text": [
      "False\n",
      "True\n"
     ]
    }
   ],
   "source": [
    "# Cek tipe data objek\n",
    "print(isinstance(2.0,int))\n",
    "print(isinstance(2.0,(int, float)))"
   ]
  },
  {
   "cell_type": "code",
   "execution_count": 40,
   "metadata": {},
   "outputs": [
    {
     "name": "stdout",
     "output_type": "stream",
     "text": [
      "17.0\n",
      "19\n",
      "19.45\n"
     ]
    }
   ],
   "source": [
    "# Mengkonversi tipe data objek\n",
    "print(float(17))\n",
    "print(int(19.45))\n",
    "print(str(19.45))"
   ]
  },
  {
   "cell_type": "code",
   "execution_count": 42,
   "metadata": {},
   "outputs": [
    {
     "name": "stdout",
     "output_type": "stream",
     "text": [
      "False\n",
      "False\n",
      "String Kosong False\n",
      "List Kosong False\n",
      "Dictionary Kosong False\n"
     ]
    }
   ],
   "source": [
    "# zero, None, dan empty dikonversi ke nilai False\n",
    "print(bool(0))\n",
    "print(bool(None))\n",
    "print('String Kosong',bool(''))\n",
    "print('List Kosong',bool([]))\n",
    "print('Dictionary Kosong',bool({}))"
   ]
  },
  {
   "cell_type": "code",
   "execution_count": 43,
   "metadata": {},
   "outputs": [
    {
     "name": "stdout",
     "output_type": "stream",
     "text": [
      "True\n",
      "True\n",
      "True\n"
     ]
    }
   ],
   "source": [
    "# non-empty dan non-zeros dikonversi ke nilai True\n",
    "print(bool(19))\n",
    "print(bool('Kesatuan'))\n",
    "print(bool(45))"
   ]
  },
  {
   "cell_type": "markdown",
   "metadata": {},
   "source": [
    "### List"
   ]
  },
  {
   "cell_type": "markdown",
   "metadata": {},
   "source": [
    "Objek yang berbeda dikategorikan dalam urutan tertentu, daftar diurutkan, dapat diubah(menambah, menghapus dan mengubah daftar objek)"
   ]
  },
  {
   "cell_type": "code",
   "execution_count": 46,
   "metadata": {},
   "outputs": [
    {
     "name": "stdout",
     "output_type": "stream",
     "text": [
      "[]\n"
     ]
    }
   ],
   "source": [
    "# membuat list kosong\n",
    "list_kosong = []\n",
    "list_kosong = list()\n",
    "print(list_kosong)"
   ]
  },
  {
   "cell_type": "code",
   "execution_count": 71,
   "metadata": {},
   "outputs": [
    {
     "name": "stdout",
     "output_type": "stream",
     "text": [
      "Rock\n",
      "3\n"
     ]
    }
   ],
   "source": [
    "playlist = ['Rock','Pop','Metal']\n",
    "print(playlist[0])\n",
    "print(len(playlist))"
   ]
  },
  {
   "cell_type": "code",
   "execution_count": 73,
   "metadata": {},
   "outputs": [
    {
     "data": {
      "text/plain": [
       "['Trash',\n",
       " 'Reggae',\n",
       " 'Rock',\n",
       " 'Pop',\n",
       " 'Metal',\n",
       " 'Campur Sari',\n",
       " 'Langgam',\n",
       " 'Slow Rock']"
      ]
     },
     "execution_count": 73,
     "metadata": {},
     "output_type": "execute_result"
    }
   ],
   "source": [
    "# Memodifikasi list\n",
    "playlist.append('Campur Sari')\n",
    "playlist.extend(['Langgam','Slow Rock'])\n",
    "playlist.insert(0,'Trash')\n",
    "playlist"
   ]
  },
  {
   "cell_type": "code",
   "execution_count": 74,
   "metadata": {},
   "outputs": [
    {
     "data": {
      "text/plain": [
       "['Reggae', 'Rock', 'Pop', 'Metal', 'Campur Sari', 'Langgam', 'Slow Rock']"
      ]
     },
     "execution_count": 74,
     "metadata": {},
     "output_type": "execute_result"
    }
   ],
   "source": [
    "# Menghapus list\n",
    "playlist.remove('Trash')\n",
    "playlist.pop(0)\n",
    "del playlist[0]\n",
    "playlist[0] = 'Trash'\n",
    "playlist"
   ]
  },
  {
   "cell_type": "code",
   "execution_count": 75,
   "metadata": {},
   "outputs": [
    {
     "data": {
      "text/plain": [
       "['Reggae',\n",
       " 'Rock',\n",
       " 'Pop',\n",
       " 'Metal',\n",
       " 'Campur Sari',\n",
       " 'Langgam',\n",
       " 'Slow Rock',\n",
       " 'SKA',\n",
       " 'Rockdut',\n",
       " 'Remix']"
      ]
     },
     "execution_count": 75,
     "metadata": {},
     "output_type": "execute_result"
    }
   ],
   "source": [
    "# Menambah list ke dalam playlist\n",
    "tambah_playlist = playlist + ['SKA','Rockdut','Remix']\n",
    "tambah_playlist"
   ]
  },
  {
   "cell_type": "code",
   "execution_count": 79,
   "metadata": {},
   "outputs": [
    {
     "data": {
      "text/plain": [
       "1"
      ]
     },
     "execution_count": 79,
     "metadata": {},
     "output_type": "execute_result"
    }
   ],
   "source": [
    "playlist.count('Rock')"
   ]
  },
  {
   "cell_type": "code",
   "execution_count": 81,
   "metadata": {},
   "outputs": [
    {
     "data": {
      "text/plain": [
       "5"
      ]
     },
     "execution_count": 81,
     "metadata": {},
     "output_type": "execute_result"
    }
   ],
   "source": [
    "# Untuk mengetahui index\n",
    "playlist.index('Langgam')"
   ]
  },
  {
   "cell_type": "code",
   "execution_count": 82,
   "metadata": {},
   "outputs": [
    {
     "data": {
      "text/plain": [
       "'Reggae'"
      ]
     },
     "execution_count": 82,
     "metadata": {},
     "output_type": "execute_result"
    }
   ],
   "source": [
    "# Mengiris list\n",
    "playlist[0]"
   ]
  },
  {
   "cell_type": "code",
   "execution_count": 89,
   "metadata": {},
   "outputs": [
    {
     "name": "stdout",
     "output_type": "stream",
     "text": [
      "['Reggae', 'Rock', 'Pop', 'Metal', 'Campur Sari', 'Langgam', 'Slow Rock']\n",
      "['Reggae', 'Rock', 'Pop']\n",
      "['Reggae', 'Rock', 'Pop']\n",
      "['Metal', 'Campur Sari', 'Langgam', 'Slow Rock']\n",
      "Slow Rock\n",
      "['Reggae', 'Pop', 'Campur Sari', 'Slow Rock']\n",
      "['Slow Rock', 'Langgam', 'Campur Sari', 'Metal', 'Pop', 'Rock', 'Reggae']\n"
     ]
    }
   ],
   "source": [
    "print(playlist)\n",
    "print(playlist[0:3])\n",
    "print(playlist[:3])\n",
    "print(playlist[3:])\n",
    "print(playlist[-1])\n",
    "print(playlist[::2])\n",
    "print(playlist[::-1])"
   ]
  },
  {
   "cell_type": "code",
   "execution_count": 95,
   "metadata": {},
   "outputs": [
    {
     "name": "stdout",
     "output_type": "stream",
     "text": [
      "['Slow Rock', 'Rock', 'Reggae', 'Pop', 'Metal', 'Langgam', 'Campur Sari']\n"
     ]
    }
   ],
   "source": [
    "# Metode alternatif untuk menampilkan list dari belakang\n",
    "print(list(reversed(playlist)))"
   ]
  },
  {
   "cell_type": "code",
   "execution_count": null,
   "metadata": {},
   "outputs": [],
   "source": [
    "print(playlist.sort())\n",
    "print(playlist.sort(reversed=True))\n",
    "print(playlist.sort(key=len))"
   ]
  },
  {
   "cell_type": "code",
   "execution_count": 99,
   "metadata": {},
   "outputs": [
    {
     "name": "stdout",
     "output_type": "stream",
     "text": [
      "['Campur Sari', 'Langgam', 'Metal', 'Pop', 'Reggae', 'Rock', 'Slow Rock']\n"
     ]
    }
   ],
   "source": [
    "print(sorted(playlist))\n",
    "print(sorted(playlist, reversed=True))\n",
    "print(sorted(playlist, key=len))"
   ]
  },
  {
   "cell_type": "code",
   "execution_count": 102,
   "metadata": {},
   "outputs": [
    {
     "name": "stdout",
     "output_type": "stream",
     "text": [
      "[0, 2, 3]\n"
     ]
    }
   ],
   "source": [
    "nomer = [1, 2, 3]\n",
    "nomer_sama = nomer\n",
    "nomer_sama[0] = 0\n",
    "print(nomer_sama)"
   ]
  },
  {
   "cell_type": "code",
   "execution_count": 104,
   "metadata": {},
   "outputs": [
    {
     "name": "stdout",
     "output_type": "stream",
     "text": [
      "[0, 2, 3]\n"
     ]
    }
   ],
   "source": [
    "angka_baru = nomer.copy()\n",
    "angka_baru = nomer[:]\n",
    "angka_baru = list(nomer)\n",
    "print(angka_baru)"
   ]
  },
  {
   "cell_type": "code",
   "execution_count": 106,
   "metadata": {},
   "outputs": [
    {
     "data": {
      "text/plain": [
       "True"
      ]
     },
     "execution_count": 106,
     "metadata": {},
     "output_type": "execute_result"
    }
   ],
   "source": [
    "id(nomer) == id(angka_baru)\n",
    "nomer is nomer_sama"
   ]
  },
  {
   "cell_type": "code",
   "execution_count": 107,
   "metadata": {},
   "outputs": [
    {
     "data": {
      "text/plain": [
       "False"
      ]
     },
     "execution_count": 107,
     "metadata": {},
     "output_type": "execute_result"
    }
   ],
   "source": [
    "nomer is angka_baru"
   ]
  },
  {
   "cell_type": "code",
   "execution_count": 108,
   "metadata": {},
   "outputs": [
    {
     "data": {
      "text/plain": [
       "True"
      ]
     },
     "execution_count": 108,
     "metadata": {},
     "output_type": "execute_result"
    }
   ],
   "source": [
    "nomer == nomer_sama"
   ]
  },
  {
   "cell_type": "code",
   "execution_count": 109,
   "metadata": {},
   "outputs": [
    {
     "data": {
      "text/plain": [
       "True"
      ]
     },
     "execution_count": 109,
     "metadata": {},
     "output_type": "execute_result"
    }
   ],
   "source": [
    "nomer == angka_baru"
   ]
  },
  {
   "cell_type": "markdown",
   "metadata": {},
   "source": [
    "### Tuples"
   ]
  },
  {
   "cell_type": "code",
   "execution_count": 117,
   "metadata": {},
   "outputs": [],
   "source": [
    "# Membuat tuple\n",
    "digits = (0, 1, 'Tujuh')\n",
    "digits = tuple([0, 1, 'Tujuh'])"
   ]
  },
  {
   "cell_type": "code",
   "execution_count": 120,
   "metadata": {},
   "outputs": [
    {
     "name": "stdout",
     "output_type": "stream",
     "text": [
      "Tujuh\n",
      "3\n",
      "1\n",
      "1\n"
     ]
    }
   ],
   "source": [
    "print(digits[2])\n",
    "print(len(digits))\n",
    "print(digits.count(0))\n",
    "print(digits.index(1))"
   ]
  },
  {
   "cell_type": "code",
   "execution_count": 121,
   "metadata": {},
   "outputs": [
    {
     "data": {
      "text/plain": [
       "(0, 1, 'Tujuh', 3, 4, 5, 6)"
      ]
     },
     "execution_count": 121,
     "metadata": {},
     "output_type": "execute_result"
    }
   ],
   "source": [
    "digi = digits + (3, 4, 5, 6)\n",
    "digi"
   ]
  },
  {
   "cell_type": "code",
   "execution_count": 124,
   "metadata": {},
   "outputs": [
    {
     "data": {
      "text/plain": [
       "(0, 1, 'Tujuh', 3, 4, 5, 6, 'Ismail', 'Ibrahim', 7, 'Nur', 'Fatimah')"
      ]
     },
     "execution_count": 124,
     "metadata": {},
     "output_type": "execute_result"
    }
   ],
   "source": [
    "plus = digi + ('Ismail','Ibrahim', 7, 'Nur','Fatimah')\n",
    "plus"
   ]
  },
  {
   "cell_type": "markdown",
   "metadata": {},
   "source": [
    "### String"
   ]
  },
  {
   "cell_type": "code",
   "execution_count": 137,
   "metadata": {},
   "outputs": [
    {
     "name": "stdout",
     "output_type": "stream",
     "text": [
      "42\n",
      "Aku Suka Kamu\n",
      "A\n",
      "Aku Su\n",
      "a Kamu\n",
      "u\n",
      "13\n"
     ]
    }
   ],
   "source": [
    "s = str(42)\n",
    "print(s)\n",
    "string = str('Aku Suka Kamu')\n",
    "print(string)\n",
    "print(string[0])\n",
    "print(string[:6])\n",
    "print(string[7:])\n",
    "print(string[-1])\n",
    "print(len(string))"
   ]
  },
  {
   "cell_type": "code",
   "execution_count": 138,
   "metadata": {},
   "outputs": [
    {
     "name": "stdout",
     "output_type": "stream",
     "text": [
      "aku suka kamu\n",
      "AKU SUKA KAMU\n"
     ]
    }
   ],
   "source": [
    "print(string.lower())\n",
    "print(string.upper())"
   ]
  },
  {
   "cell_type": "code",
   "execution_count": 139,
   "metadata": {},
   "outputs": [
    {
     "name": "stdout",
     "output_type": "stream",
     "text": [
      "True\n",
      "True\n",
      "False\n"
     ]
    }
   ],
   "source": [
    "print(string.startswith('Aku'))\n",
    "print(string.endswith('Kamu'))\n",
    "print(string.isdigit())"
   ]
  },
  {
   "cell_type": "code",
   "execution_count": 144,
   "metadata": {},
   "outputs": [
    {
     "name": "stdout",
     "output_type": "stream",
     "text": [
      "0\n",
      "4\n",
      "Aku Cinta Kamu\n"
     ]
    }
   ],
   "source": [
    "print(string.find('Aku'))\n",
    "print(string.find('Suka'))\n",
    "print(string.replace('Suka','Cinta'))"
   ]
  },
  {
   "cell_type": "code",
   "execution_count": 145,
   "metadata": {},
   "outputs": [
    {
     "data": {
      "text/plain": [
       "'Aku Suka Kamu'"
      ]
     },
     "execution_count": 145,
     "metadata": {},
     "output_type": "execute_result"
    }
   ],
   "source": [
    "# Split ke string\n",
    "string.split(' ')\n",
    "string"
   ]
  },
  {
   "cell_type": "code",
   "execution_count": 147,
   "metadata": {},
   "outputs": [
    {
     "name": "stdout",
     "output_type": "stream",
     "text": [
      "Baris pertama\n",
      "Baris kedua\n"
     ]
    }
   ],
   "source": [
    "print('Baris pertama\\nBaris kedua')"
   ]
  },
  {
   "cell_type": "code",
   "execution_count": 152,
   "metadata": {},
   "outputs": [
    {
     "name": "stdout",
     "output_type": "stream",
     "text": [
      "Baris pertama\\nBaris pertama\n"
     ]
    }
   ],
   "source": [
    "print(r'Baris pertama\\nBaris pertama')"
   ]
  },
  {
   "cell_type": "code",
   "execution_count": 154,
   "metadata": {},
   "outputs": [
    {
     "name": "stdout",
     "output_type": "stream",
     "text": [
      "Baris pertama\n",
      "Baris kedua\n"
     ]
    }
   ],
   "source": [
    "lo = 'Baris pertama\\nBaris kedua'\n",
    "print(lo)"
   ]
  },
  {
   "cell_type": "markdown",
   "metadata": {},
   "source": [
    "### Dictionaries"
   ]
  },
  {
   "cell_type": "code",
   "execution_count": 160,
   "metadata": {},
   "outputs": [],
   "source": [
    "# Membuat dictionary ada 2 cara\n",
    "dict_kosong = {}"
   ]
  },
  {
   "cell_type": "code",
   "execution_count": 164,
   "metadata": {},
   "outputs": [],
   "source": [
    "dict_kosong = dict()"
   ]
  },
  {
   "cell_type": "code",
   "execution_count": 168,
   "metadata": {},
   "outputs": [
    {
     "data": {
      "text/plain": [
       "{'Fatimah': 'Karir', 'Musa': 'Kalam', 'Ibrahim': 'Ismail'}"
      ]
     },
     "execution_count": 168,
     "metadata": {},
     "output_type": "execute_result"
    }
   ],
   "source": [
    "dict_list = {'Fatimah' : 'Karir', 'Musa' : 'Kalam', 'Ibrahim' : 'Ismail'}\n",
    "dict_list"
   ]
  },
  {
   "cell_type": "code",
   "execution_count": 173,
   "metadata": {},
   "outputs": [
    {
     "name": "stdout",
     "output_type": "stream",
     "text": [
      "3\n",
      "dict_keys(['Fatimah', 'Musa', 'Ibrahim'])\n",
      "dict_values(['Karir', 'Kalam', 'Ismail'])\n",
      "dict_items([('Fatimah', 'Karir'), ('Musa', 'Kalam'), ('Ibrahim', 'Ismail')])\n"
     ]
    }
   ],
   "source": [
    "print(len(dict_list))\n",
    "print(dict_list.keys())\n",
    "print(dict_list.values())\n",
    "print(dict_list.items())"
   ]
  },
  {
   "cell_type": "code",
   "execution_count": 176,
   "metadata": {},
   "outputs": [
    {
     "data": {
      "text/plain": [
       "True"
      ]
     },
     "execution_count": 176,
     "metadata": {},
     "output_type": "execute_result"
    }
   ],
   "source": [
    "'Fatimah' in dict_list"
   ]
  },
  {
   "cell_type": "code",
   "execution_count": 177,
   "metadata": {},
   "outputs": [
    {
     "data": {
      "text/plain": [
       "False"
      ]
     },
     "execution_count": 177,
     "metadata": {},
     "output_type": "execute_result"
    }
   ],
   "source": [
    "'Ismail' in dict_list"
   ]
  },
  {
   "cell_type": "code",
   "execution_count": 182,
   "metadata": {},
   "outputs": [
    {
     "data": {
      "text/plain": [
       "{'Fatimah': 'Karir',\n",
       " 'Musa': 'Kalam',\n",
       " 'Ibrahim': 'Ismail',\n",
       " 'Nur': 'Hijrah',\n",
       " 'Suro': 'Muharram',\n",
       " 'a': 'b'}"
      ]
     },
     "execution_count": 182,
     "metadata": {},
     "output_type": "execute_result"
    }
   ],
   "source": [
    "dict_list['a'] = 'b'\n",
    "dict_list"
   ]
  },
  {
   "cell_type": "code",
   "execution_count": 183,
   "metadata": {},
   "outputs": [
    {
     "data": {
      "text/plain": [
       "{'Fatimah': 'Karir',\n",
       " 'Musa': 'Kalam',\n",
       " 'Ibrahim': 'Ismail',\n",
       " 'Nur': 'Hijrah',\n",
       " 'Suro': 'Muharram'}"
      ]
     },
     "execution_count": 183,
     "metadata": {},
     "output_type": "execute_result"
    }
   ],
   "source": [
    "del dict_list['a']\n",
    "dict_list"
   ]
  },
  {
   "cell_type": "markdown",
   "metadata": {},
   "source": [
    "### Sets"
   ]
  },
  {
   "cell_type": "code",
   "execution_count": 184,
   "metadata": {},
   "outputs": [],
   "source": [
    "# Membuat set kosong\n",
    "set_kosong = set()"
   ]
  },
  {
   "cell_type": "code",
   "execution_count": 187,
   "metadata": {},
   "outputs": [
    {
     "data": {
      "text/plain": [
       "{'Java', 'PHP', 'Python', 'R', 'Visual Basic'}"
      ]
     },
     "execution_count": 187,
     "metadata": {},
     "output_type": "execute_result"
    }
   ],
   "source": [
    "# Membuat set\n",
    "set_base = {'Python','R','Java','PHP','Visual Basic'}\n",
    "set_base"
   ]
  },
  {
   "cell_type": "code",
   "execution_count": 188,
   "metadata": {},
   "outputs": [
    {
     "data": {
      "text/plain": [
       "{'Atas', 'Bawah', 'Tengah'}"
      ]
     },
     "execution_count": 188,
     "metadata": {},
     "output_type": "execute_result"
    }
   ],
   "source": [
    "set_level = set(['Bawah','Tengah','Atas'])\n",
    "set_level"
   ]
  },
  {
   "cell_type": "code",
   "execution_count": 190,
   "metadata": {},
   "outputs": [
    {
     "name": "stdout",
     "output_type": "stream",
     "text": [
      "5\n"
     ]
    },
    {
     "data": {
      "text/plain": [
       "True"
      ]
     },
     "execution_count": 190,
     "metadata": {},
     "output_type": "execute_result"
    }
   ],
   "source": [
    "print(len(set_base))\n",
    "'Python' in set_base"
   ]
  },
  {
   "cell_type": "code",
   "execution_count": 198,
   "metadata": {},
   "outputs": [
    {
     "data": {
      "text/plain": [
       "set()"
      ]
     },
     "execution_count": 198,
     "metadata": {},
     "output_type": "execute_result"
    }
   ],
   "source": [
    "set_base & set_level"
   ]
  },
  {
   "cell_type": "code",
   "execution_count": 195,
   "metadata": {},
   "outputs": [
    {
     "data": {
      "text/plain": [
       "{'Atas', 'Bawah', 'Java', 'PHP', 'Python', 'R', 'Tengah', 'Visual Basic'}"
      ]
     },
     "execution_count": 195,
     "metadata": {},
     "output_type": "execute_result"
    }
   ],
   "source": [
    "set_base | set_level"
   ]
  },
  {
   "cell_type": "code",
   "execution_count": 196,
   "metadata": {},
   "outputs": [
    {
     "data": {
      "text/plain": [
       "{'Java', 'PHP', 'Python', 'R', 'Visual Basic'}"
      ]
     },
     "execution_count": 196,
     "metadata": {},
     "output_type": "execute_result"
    }
   ],
   "source": [
    "set_base - set_level"
   ]
  },
  {
   "cell_type": "code",
   "execution_count": 199,
   "metadata": {},
   "outputs": [
    {
     "data": {
      "text/plain": [
       "{'Atas', 'Bawah', 'Tengah'}"
      ]
     },
     "execution_count": 199,
     "metadata": {},
     "output_type": "execute_result"
    }
   ],
   "source": [
    "set_level - set_base"
   ]
  },
  {
   "cell_type": "code",
   "execution_count": 220,
   "metadata": {},
   "outputs": [
    {
     "data": {
      "text/plain": [
       "{'Delphi',\n",
       " 'Django',\n",
       " 'Go',\n",
       " 'Java',\n",
       " 'PHP',\n",
       " 'Python',\n",
       " 'R',\n",
       " 'S',\n",
       " 'Visual Basic',\n",
       " 'a',\n",
       " 'abc',\n",
       " 'k',\n",
       " 'p',\n",
       " 'r'}"
      ]
     },
     "execution_count": 220,
     "metadata": {},
     "output_type": "execute_result"
    }
   ],
   "source": [
    "set_base.add('abc')\n",
    "set_base"
   ]
  },
  {
   "cell_type": "code",
   "execution_count": 226,
   "metadata": {},
   "outputs": [
    {
     "data": {
      "text/plain": [
       "{'Delphi', 'Django', 'Go', 'Java', 'PHP', 'Python', 'R', 'Visual Basic'}"
      ]
     },
     "execution_count": 226,
     "metadata": {},
     "output_type": "execute_result"
    }
   ],
   "source": [
    "set_base.remove('abc')\n",
    "set_base"
   ]
  },
  {
   "cell_type": "code",
   "execution_count": 227,
   "metadata": {},
   "outputs": [
    {
     "name": "stdout",
     "output_type": "stream",
     "text": [
      "Error 'abc'\n"
     ]
    }
   ],
   "source": [
    "try:\n",
    "    set_base.remove('abc')\n",
    "except  KeyError as e:\n",
    "    print(\"Error\",e)"
   ]
  },
  {
   "cell_type": "code",
   "execution_count": 228,
   "metadata": {},
   "outputs": [
    {
     "data": {
      "text/plain": [
       "[0, 1, 2, 9]"
      ]
     },
     "execution_count": 228,
     "metadata": {},
     "output_type": "execute_result"
    }
   ],
   "source": [
    "sorted(set([9, 0, 2, 1, 0]))"
   ]
  },
  {
   "cell_type": "markdown",
   "metadata": {},
   "source": [
    "## Execution control statements"
   ]
  },
  {
   "cell_type": "markdown",
   "metadata": {},
   "source": [
    "### Conditional statements"
   ]
  },
  {
   "cell_type": "code",
   "execution_count": 230,
   "metadata": {},
   "outputs": [
    {
     "name": "stdout",
     "output_type": "stream",
     "text": [
      "Positif\n"
     ]
    }
   ],
   "source": [
    "x = 3\n",
    "# statmen if\n",
    "if x > 0:\n",
    "    print('Positif')"
   ]
  },
  {
   "cell_type": "code",
   "execution_count": 232,
   "metadata": {},
   "outputs": [
    {
     "name": "stdout",
     "output_type": "stream",
     "text": [
      "Positif\n"
     ]
    }
   ],
   "source": [
    "x = 5\n",
    "# statmen if\n",
    "if x > 0:\n",
    "    print('Positif')\n",
    "else:\n",
    "    print('Negatif')"
   ]
  },
  {
   "cell_type": "code",
   "execution_count": 236,
   "metadata": {},
   "outputs": [
    {
     "name": "stdout",
     "output_type": "stream",
     "text": [
      "Negatif\n"
     ]
    }
   ],
   "source": [
    "x = 10\n",
    "# statmen if\n",
    "if x > 20:\n",
    "    print('Positif')\n",
    "elif x == 0:\n",
    "    print('Nol')\n",
    "else:\n",
    "    print('Negatif')"
   ]
  },
  {
   "cell_type": "code",
   "execution_count": 237,
   "metadata": {},
   "outputs": [
    {
     "name": "stdout",
     "output_type": "stream",
     "text": [
      "Positif\n"
     ]
    }
   ],
   "source": [
    "if x > 8: print('Positif')"
   ]
  },
  {
   "cell_type": "markdown",
   "metadata": {},
   "source": [
    "### Loops"
   ]
  },
  {
   "cell_type": "code",
   "execution_count": null,
   "metadata": {},
   "outputs": [],
   "source": [
    "range(0,7)\n",
    "range(7)\n",
    "range(0,4,5)"
   ]
  },
  {
   "cell_type": "code",
   "execution_count": 244,
   "metadata": {},
   "outputs": [
    {
     "name": "stdout",
     "output_type": "stream",
     "text": [
      "APEL\n",
      "ANGGUR\n",
      "NANAS\n",
      "MANGGA\n",
      "PISANG\n"
     ]
    }
   ],
   "source": [
    "# Loop yang tidak di rekomendasikan\n",
    "buah = ['Apel','Anggur','Nanas','Mangga','Pisang']\n",
    "for i in range(len(buah)):\n",
    "    print(buah[i].upper())"
   ]
  },
  {
   "cell_type": "code",
   "execution_count": 247,
   "metadata": {},
   "outputs": [
    {
     "name": "stdout",
     "output_type": "stream",
     "text": [
      "APEL\n",
      "ANGGUR\n",
      "NANAS\n",
      "MANGGA\n",
      "PISANG\n"
     ]
    }
   ],
   "source": [
    "# Loop yang di rekomendasikan\n",
    "for bu in buah:\n",
    "    print(bu.upper())"
   ]
  },
  {
   "cell_type": "code",
   "execution_count": 249,
   "metadata": {},
   "outputs": [
    {
     "name": "stdout",
     "output_type": "stream",
     "text": [
      "0\n",
      "1\n",
      "2\n",
      "3\n",
      "4\n"
     ]
    }
   ],
   "source": [
    "for i in range(0,5):\n",
    "    print(i)"
   ]
  },
  {
   "cell_type": "code",
   "execution_count": 251,
   "metadata": {},
   "outputs": [
    {
     "name": "stdout",
     "output_type": "stream",
     "text": [
      "Fatimah Karir\n",
      "Musa Kalam\n",
      "Ibrahim Ismail\n"
     ]
    }
   ],
   "source": [
    "keluarga = {'Fatimah' : 'Karir', 'Musa' : 'Kalam', 'Ibrahim' : 'Ismail'}\n",
    "for key, value in keluarga.items():\n",
    "    print(key, value)"
   ]
  },
  {
   "cell_type": "code",
   "execution_count": 252,
   "metadata": {},
   "outputs": [
    {
     "name": "stdout",
     "output_type": "stream",
     "text": [
      "0 Apel\n",
      "1 Anggur\n",
      "2 Nanas\n",
      "3 Mangga\n",
      "4 Pisang\n"
     ]
    }
   ],
   "source": [
    "for index, bu in enumerate(buah):\n",
    "    print(index, bu)"
   ]
  },
  {
   "cell_type": "code",
   "execution_count": 258,
   "metadata": {},
   "outputs": [
    {
     "name": "stdout",
     "output_type": "stream",
     "text": [
      "Anggur tidak ditemukan\n",
      "Anggur ditemukan\n"
     ]
    }
   ],
   "source": [
    "for bu in buah:\n",
    "    if bu == 'Anggur':\n",
    "        print(\"Anggur ditemukan\")\n",
    "        break\n",
    "    else:\n",
    "        print(\"Anggur tidak ditemukan\")"
   ]
  },
  {
   "cell_type": "code",
   "execution_count": 259,
   "metadata": {},
   "outputs": [
    {
     "name": "stdout",
     "output_type": "stream",
     "text": [
      "Menampilkan 5x\n",
      "Menampilkan 5x\n",
      "Menampilkan 5x\n",
      "Menampilkan 5x\n",
      "Menampilkan 5x\n"
     ]
    }
   ],
   "source": [
    "count = 0\n",
    "while count < 5 :\n",
    "    print('Menampilkan 5x')\n",
    "    count +=1"
   ]
  },
  {
   "cell_type": "markdown",
   "metadata": {},
   "source": [
    "### Exceptions handling"
   ]
  },
  {
   "cell_type": "code",
   "execution_count": 265,
   "metadata": {},
   "outputs": [],
   "source": [
    "dct = dict(a=[1, 2], b=[4, 5], c=[3,7])"
   ]
  },
  {
   "cell_type": "code",
   "execution_count": 268,
   "metadata": {},
   "outputs": [
    {
     "name": "stdout",
     "output_type": "stream",
     "text": [
      "{'a': [1, 2], 'b': [4, 5], 'c': [3, 7], 'd': []}\n"
     ]
    }
   ],
   "source": [
    "key = 'd'\n",
    "try:\n",
    "    dct[key]\n",
    "except:\n",
    "    print(\"Key %s kosong. Tambahkan value\" % key)\n",
    "    dct['d'] = [9,8]\n",
    "print(dct)"
   ]
  },
  {
   "cell_type": "markdown",
   "metadata": {},
   "source": [
    "### Functions"
   ]
  },
  {
   "cell_type": "code",
   "execution_count": 272,
   "metadata": {},
   "outputs": [
    {
     "name": "stdout",
     "output_type": "stream",
     "text": [
      "Ini adalah teks\n"
     ]
    }
   ],
   "source": [
    "def print_teks():\n",
    "    print('Ini adalah teks')\n",
    "print_teks()"
   ]
  },
  {
   "cell_type": "code",
   "execution_count": 275,
   "metadata": {},
   "outputs": [
    {
     "name": "stdout",
     "output_type": "stream",
     "text": [
      "3\n",
      "3\n"
     ]
    }
   ],
   "source": [
    "def print_ini(x):\n",
    "    print(x)\n",
    "    \n",
    "print_ini(3)\n",
    "n = print_ini(3)"
   ]
  },
  {
   "cell_type": "code",
   "execution_count": 283,
   "metadata": {},
   "outputs": [
    {
     "data": {
      "text/plain": [
       "(49, 49)"
      ]
     },
     "execution_count": 283,
     "metadata": {},
     "output_type": "execute_result"
    }
   ],
   "source": [
    "def square_this(x):\n",
    "    return x ** 2\n",
    "#square_this(x)\n",
    "var = square_this(7)\n",
    "square_this(7), var"
   ]
  },
  {
   "cell_type": "code",
   "execution_count": 288,
   "metadata": {},
   "outputs": [
    {
     "data": {
      "text/plain": [
       "(4, 8)"
      ]
     },
     "execution_count": 288,
     "metadata": {},
     "output_type": "execute_result"
    }
   ],
   "source": [
    "def power_this(x, power=2):\n",
    "    return x ** power\n",
    "#square_this(x)\n",
    "power_this(2), power_this(2,3)"
   ]
  },
  {
   "cell_type": "code",
   "execution_count": 289,
   "metadata": {},
   "outputs": [],
   "source": [
    "def stub():\n",
    "    pass"
   ]
  },
  {
   "cell_type": "code",
   "execution_count": 298,
   "metadata": {},
   "outputs": [
    {
     "data": {
      "text/plain": [
       "(1, 8)"
      ]
     },
     "execution_count": 298,
     "metadata": {},
     "output_type": "execute_result"
    }
   ],
   "source": [
    "def min_max(no):\n",
    "    return min(no), max(no)\n",
    "\n",
    "no =[1,4,6,7,8,4]\n",
    "mini_maks = min_max(no)\n",
    "mini_maks"
   ]
  },
  {
   "cell_type": "markdown",
   "metadata": {},
   "source": [
    "## List comprehensions, iterators, etc."
   ]
  },
  {
   "cell_type": "markdown",
   "metadata": {},
   "source": [
    "### List comprehensions"
   ]
  },
  {
   "cell_type": "code",
   "execution_count": 5,
   "metadata": {},
   "outputs": [
    {
     "data": {
      "text/plain": [
       "([1, 2, 3, 4, 5], [1, 8, 27, 64, 125])"
      ]
     },
     "execution_count": 5,
     "metadata": {},
     "output_type": "execute_result"
    }
   ],
   "source": [
    "# for loop to create a list of cubes\n",
    "nums = [1,2,3,4,5]\n",
    "cubes = []\n",
    "for num in nums:\n",
    "    cubes.append(num**3)\n",
    "nums,cubes"
   ]
  },
  {
   "cell_type": "code",
   "execution_count": 6,
   "metadata": {},
   "outputs": [
    {
     "data": {
      "text/plain": [
       "[1, 8, 27, 64, 125]"
      ]
     },
     "execution_count": 6,
     "metadata": {},
     "output_type": "execute_result"
    }
   ],
   "source": [
    "cubes = [num**3 for num in nums]\n",
    "cubes"
   ]
  },
  {
   "cell_type": "code",
   "execution_count": 7,
   "metadata": {},
   "outputs": [
    {
     "data": {
      "text/plain": [
       "[8, 64]"
      ]
     },
     "execution_count": 7,
     "metadata": {},
     "output_type": "execute_result"
    }
   ],
   "source": [
    "# for loop to create a list of cubes of even numbers\n",
    "\n",
    "cube_of_even = []\n",
    "for num in nums:\n",
    "    if num % 2 == 0:\n",
    "        cube_of_even.append(num**3)\n",
    "cube_of_even"
   ]
  },
  {
   "cell_type": "code",
   "execution_count": 8,
   "metadata": {},
   "outputs": [
    {
     "data": {
      "text/plain": [
       "[8, 64]"
      ]
     },
     "execution_count": 8,
     "metadata": {},
     "output_type": "execute_result"
    }
   ],
   "source": [
    "# equivalent list comprehension\n",
    "# syntax: [expression for variable in iterable if condition]\n",
    "\n",
    "cube_of_even = [num**3 for num in nums if num % 2 == 0]\n",
    "cube_of_even"
   ]
  },
  {
   "cell_type": "code",
   "execution_count": 9,
   "metadata": {},
   "outputs": [
    {
     "data": {
      "text/plain": [
       "[1, 8, 9, 64, 25]"
      ]
     },
     "execution_count": 9,
     "metadata": {},
     "output_type": "execute_result"
    }
   ],
   "source": [
    "# for loop to cube even numbers and square odd numbers\n",
    "\n",
    "cubes_and_squares = []\n",
    "for num in nums:\n",
    "    if num % 2 == 0:\n",
    "        cubes_and_squares.append(num**3)\n",
    "    else:\n",
    "        cubes_and_squares.append(num**2)\n",
    "cubes_and_squares"
   ]
  },
  {
   "cell_type": "code",
   "execution_count": 10,
   "metadata": {},
   "outputs": [
    {
     "data": {
      "text/plain": [
       "[1, 8, 9, 64, 25]"
      ]
     },
     "execution_count": 10,
     "metadata": {},
     "output_type": "execute_result"
    }
   ],
   "source": [
    "cubes_and_squares = [num**3 if num % 2 == 0 else num**2 for num in nums]\n",
    "cubes_and_squares"
   ]
  },
  {
   "cell_type": "code",
   "execution_count": 11,
   "metadata": {},
   "outputs": [
    {
     "data": {
      "text/plain": [
       "[1, 2, 3, 4]"
      ]
     },
     "execution_count": 11,
     "metadata": {},
     "output_type": "execute_result"
    }
   ],
   "source": [
    "# for loop to flatten a 2d-matrix\n",
    "\n",
    "matrix = [[1,2],[3,4]]\n",
    "items =[]\n",
    "for row in matrix:\n",
    "    for item in row:\n",
    "        items.append(item)\n",
    "items"
   ]
  },
  {
   "cell_type": "code",
   "execution_count": 13,
   "metadata": {},
   "outputs": [
    {
     "data": {
      "text/plain": [
       "[1, 2, 3, 4]"
      ]
     },
     "execution_count": 13,
     "metadata": {},
     "output_type": "execute_result"
    }
   ],
   "source": [
    "# equivalent list comprehension\n",
    "\n",
    "items = [item for row in matrix\n",
    "         for item in row]\n",
    "items"
   ]
  },
  {
   "cell_type": "code",
   "execution_count": 26,
   "metadata": {},
   "outputs": [
    {
     "data": {
      "text/plain": [
       "{5}"
      ]
     },
     "execution_count": 26,
     "metadata": {},
     "output_type": "execute_result"
    }
   ],
   "source": [
    "# set comprehension\n",
    "\n",
    "buah = ['apel','anggur','pisang','durian','salak pondok']\n",
    "panjang_unik = {len(buah) for bu in buah}\n",
    "panjang_unik"
   ]
  },
  {
   "cell_type": "code",
   "execution_count": 27,
   "metadata": {},
   "outputs": [
    {
     "data": {
      "text/plain": [
       "{'apel': 4, 'anggur': 6, 'pisang': 6, 'durian': 6, 'salak pondok': 12}"
      ]
     },
     "execution_count": 27,
     "metadata": {},
     "output_type": "execute_result"
    }
   ],
   "source": [
    "# dictionary comprehension\n",
    "panjang_buah = {bu:len(bu) for bu in buah}\n",
    "panjang_buah"
   ]
  },
  {
   "cell_type": "markdown",
   "metadata": {},
   "source": [
    "### Regular expression"
   ]
  },
  {
   "cell_type": "markdown",
   "metadata": {},
   "source": [
    "Capture the pattern `anyprefixsub-<subj id>_ses-<session id>_<modality>`"
   ]
  },
  {
   "cell_type": "code",
   "execution_count": 28,
   "metadata": {},
   "outputs": [
    {
     "name": "stdout",
     "output_type": "stream",
     "text": [
      "[('sub-033', 'ses-01', 'mod-mri'), ('sub-044', 'ses-01', 'mod-mri'), ('sub-055', 'ses-02', 'mod-ctscan')]\n"
     ]
    }
   ],
   "source": [
    "import re\n",
    "regex = re.compile(\"^.+(sub-.+)_(ses-.+)_(mod-.+)\")\n",
    "strings = [\"abcsub-033_ses-01_mod-mri\", \"defsub-044_ses-01_mod-mri\", \"ghisub-055_ses-02_mod-ctscan\" ]\n",
    "print([regex.findall(s)[0] for s in strings])"
   ]
  },
  {
   "cell_type": "markdown",
   "metadata": {},
   "source": [
    "## System programming"
   ]
  },
  {
   "cell_type": "markdown",
   "metadata": {},
   "source": [
    "### Operating system interfaces (os)"
   ]
  },
  {
   "cell_type": "code",
   "execution_count": 56,
   "metadata": {},
   "outputs": [
    {
     "name": "stdout",
     "output_type": "stream",
     "text": [
      "C:\\Users\\iS\\Statistics and Machine Learning in Python\n"
     ]
    }
   ],
   "source": [
    "# Get the current working directory\n",
    "\n",
    "import os\n",
    "cwd =os.getcwd()\n",
    "print(cwd)"
   ]
  },
  {
   "cell_type": "code",
   "execution_count": 57,
   "metadata": {},
   "outputs": [
    {
     "name": "stdout",
     "output_type": "stream",
     "text": [
      "None\n"
     ]
    }
   ],
   "source": [
    "# Set the current working directory\n",
    "print(os.chdir(cwd))"
   ]
  },
  {
   "cell_type": "markdown",
   "metadata": {},
   "source": [
    "**Temporary directory**"
   ]
  },
  {
   "cell_type": "code",
   "execution_count": 7,
   "metadata": {},
   "outputs": [
    {
     "data": {
      "text/plain": [
       "'C:\\\\Users\\\\iS\\\\AppData\\\\Local\\\\Temp'"
      ]
     },
     "execution_count": 7,
     "metadata": {},
     "output_type": "execute_result"
    }
   ],
   "source": [
    "import tempfile\n",
    "tmpdir = tempfile.gettempdir()\n",
    "tmpdir"
   ]
  },
  {
   "cell_type": "markdown",
   "metadata": {},
   "source": [
    "**Join paths**"
   ]
  },
  {
   "cell_type": "code",
   "execution_count": null,
   "metadata": {},
   "outputs": [],
   "source": [
    "mytmpdir = os.path.join(tmpdir, \"iS-Folder\")\n",
    "\n",
    "# list containing the names of the entries in the directory given by path.\n",
    "os.listdir(tmpdir)"
   ]
  },
  {
   "cell_type": "markdown",
   "metadata": {},
   "source": [
    "**Create a directory**"
   ]
  },
  {
   "cell_type": "code",
   "execution_count": 15,
   "metadata": {},
   "outputs": [],
   "source": [
    "# Membuat forder di local temp\n",
    "if not os.path.exists(mytmpdir):\n",
    "    os.mkdir(mytmpdir)\n",
    "\n",
    "os.makedirs(os.path.join(tmpdir,\"iS-Folder\",\"SubFolder\",\"SubSubFolder\"))"
   ]
  },
  {
   "cell_type": "markdown",
   "metadata": {},
   "source": [
    "### File input/output"
   ]
  },
  {
   "cell_type": "code",
   "execution_count": 17,
   "metadata": {},
   "outputs": [
    {
     "name": "stdout",
     "output_type": "stream",
     "text": [
      "C:\\Users\\iS\\AppData\\Local\\Temp\\iS-Folder\\isnamafile.txt\n"
     ]
    }
   ],
   "source": [
    "namafile = os.path.join(mytmpdir,'isnamafile.txt')\n",
    "print(namafile)"
   ]
  },
  {
   "cell_type": "code",
   "execution_count": 18,
   "metadata": {},
   "outputs": [],
   "source": [
    "# Write\n",
    "baris = ['Dan oleh-Nya kita dapat diselamatkan', 'Hidayah yang merindukan Nur Cahaya']\n",
    "\n",
    "## write line by line\n",
    "fd = open(namafile,\"w\")\n",
    "fd.write(baris[0] + \"\\n\")\n",
    "fd.write(baris[1] + \"\\n\")\n",
    "fd.close()\n",
    "\n",
    "## use a context manager to automatically close your file\n",
    "with open(namafile, 'w') as f:\n",
    "    for line in baris:\n",
    "        f.write(line + '\\n')"
   ]
  },
  {
   "cell_type": "code",
   "execution_count": 19,
   "metadata": {},
   "outputs": [
    {
     "data": {
      "text/plain": [
       "('Dan oleh-Nya kita dapat diselamatkan\\n',\n",
       " 'Hidayah yang merindukan Nur Cahaya\\n')"
      ]
     },
     "execution_count": 19,
     "metadata": {},
     "output_type": "execute_result"
    }
   ],
   "source": [
    "# Read\n",
    "## read one line at a time (entire file does not have to fit into memory)\n",
    "\n",
    "read = open(namafile,\"r\")\n",
    "read.readline(),read.readline()\n",
    "#read.close()"
   ]
  },
  {
   "cell_type": "code",
   "execution_count": 20,
   "metadata": {},
   "outputs": [
    {
     "data": {
      "text/plain": [
       "['Dan oleh-Nya kita dapat diselamatkan\\n',\n",
       " 'Hidayah yang merindukan Nur Cahaya\\n']"
      ]
     },
     "execution_count": 20,
     "metadata": {},
     "output_type": "execute_result"
    }
   ],
   "source": [
    "read = open(namafile,\"r\")\n",
    "read.readlines()\n",
    "#read.close()"
   ]
  },
  {
   "cell_type": "code",
   "execution_count": 21,
   "metadata": {},
   "outputs": [
    {
     "data": {
      "text/plain": [
       "['Dan oleh-Nya kita dapat diselamatkan\\n',\n",
       " 'Hidayah yang merindukan Nur Cahaya\\n']"
      ]
     },
     "execution_count": 21,
     "metadata": {},
     "output_type": "execute_result"
    }
   ],
   "source": [
    "read = open(namafile,\"r\")\n",
    "[line for line in read]\n",
    "#read.close()"
   ]
  },
  {
   "cell_type": "code",
   "execution_count": 22,
   "metadata": {},
   "outputs": [
    {
     "data": {
      "text/plain": [
       "['Dan oleh-Nya kita dapat diselamatkan\\n',\n",
       " 'Hidayah yang merindukan Nur Cahaya\\n']"
      ]
     },
     "execution_count": 22,
     "metadata": {},
     "output_type": "execute_result"
    }
   ],
   "source": [
    "# use a context manager to automatically close your file\n",
    "with open(namafile,'r') as f:\n",
    "    lines = [line for line in f]\n",
    "lines"
   ]
  },
  {
   "cell_type": "markdown",
   "metadata": {},
   "source": [
    "### Explore, list directories"
   ]
  },
  {
   "cell_type": "markdown",
   "metadata": {},
   "source": [
    "shutil - High-level file operations"
   ]
  },
  {
   "cell_type": "code",
   "execution_count": 25,
   "metadata": {},
   "outputs": [
    {
     "name": "stdout",
     "output_type": "stream",
     "text": [
      "Copy C:\\Users\\iS\\AppData\\Local\\Temp\\iS-Folder\\isnamafile.txt ke C:\\Users\\iS\\AppData\\Local\\Temp\\iS-Folder\\SubFolder\\isnamafile.txt\n",
      "File C:\\Users\\iS\\AppData\\Local\\Temp\\iS-Folder\\SubFolder\\isnamafile.txt sudah ada ? True\n"
     ]
    }
   ],
   "source": [
    "import shutil\n",
    "\n",
    "src = os.path.join(tmpdir,'iS-Folder','isnamafile.txt')\n",
    "dst = os.path.join(tmpdir,'iS-Folder', 'SubFolder','isnamafile.txt')\n",
    "print('Copy %s ke %s' % (src,dst))\n",
    "\n",
    "shutil.copy(src,dst)\n",
    "print(\"File %s sudah ada ?\" % dst, os.path.exists(dst))"
   ]
  },
  {
   "cell_type": "code",
   "execution_count": 27,
   "metadata": {},
   "outputs": [
    {
     "name": "stdout",
     "output_type": "stream",
     "text": [
      "Copy tree C:\\Users\\iS\\AppData\\Local\\Temp\\iS-Folder\\SubSubFolder under C:\\Users\\iS\\AppData\\Local\\Temp\\SubSubFolder2\n"
     ]
    }
   ],
   "source": [
    "src = os.path.join(tmpdir,'iS-Folder','SubSubFolder')\n",
    "dst = os.path.join(tmpdir, 'SubSubFolder2')\n",
    "print('Copy tree %s under %s' % (src,dst))\n",
    "\n",
    "try:\n",
    "    shutil.copytree(src,dst)\n",
    "    shutil.rmtree(dst)\n",
    "    shutil.move(src,dst)\n",
    "except(FileExistsError, FileNotFoundError) as e:\n",
    "    pass"
   ]
  },
  {
   "cell_type": "markdown",
   "metadata": {},
   "source": [
    "### Command execution with subprocess"
   ]
  },
  {
   "cell_type": "markdown",
   "metadata": {},
   "source": [
    "* For more advanced use cases, the underlying Popen interface can be used directly.\n",
    "* Run the command described by args.\n",
    "* Wait for command to complete\n",
    "* return a CompletedProcess instance.\n",
    "* Does not capture stdout or stderr by default. To do so, pass PIPE for the stdout and/or stderr arguments."
   ]
  },
  {
   "cell_type": "code",
   "execution_count": null,
   "metadata": {},
   "outputs": [],
   "source": [
    "import subprocess\n",
    "\n",
    "p = subprocess.run(['ls','-l'])\n",
    "print(p.returncode)"
   ]
  },
  {
   "cell_type": "code",
   "execution_count": 30,
   "metadata": {},
   "outputs": [
    {
     "data": {
      "text/plain": [
       "CompletedProcess(args='ls -l', returncode=1)"
      ]
     },
     "execution_count": 30,
     "metadata": {},
     "output_type": "execute_result"
    }
   ],
   "source": [
    "subprocess.run('ls -l', shell=True)"
   ]
  },
  {
   "cell_type": "code",
   "execution_count": null,
   "metadata": {},
   "outputs": [],
   "source": [
    "out = subprocess.run(['ls','-a','/'], stdout=subprocess.PIPE, stderr=subprocess.STDOUT)\n",
    "print(out.stdout.decode('utf-8').split('\\n')[:5])"
   ]
  },
  {
   "cell_type": "markdown",
   "metadata": {},
   "source": [
    "### Multiprocessing and multithreading"
   ]
  },
  {
   "cell_type": "markdown",
   "metadata": {},
   "source": [
    "#### Multithreading"
   ]
  },
  {
   "cell_type": "code",
   "execution_count": 38,
   "metadata": {},
   "outputs": [],
   "source": [
    "import time\n",
    "import threading\n",
    "\n",
    "def list_append(count, sign=1, out_list=None):\n",
    "    if out_list is None:\n",
    "        out_list = list()\n",
    "    for i in range(count):\n",
    "        out_list.append(sign * i)\n",
    "        sum(out_list)\n",
    "    return out_list"
   ]
  },
  {
   "cell_type": "code",
   "execution_count": 48,
   "metadata": {},
   "outputs": [
    {
     "name": "stdout",
     "output_type": "stream",
     "text": [
      "Threading ellapsed time 4.528640031814575\n",
      "[0, 1, 2, 3, 4, 5, 6, 7, 8, 9]\n"
     ]
    }
   ],
   "source": [
    "size = 10000 # Number of numbers to add\n",
    "out_list = list() #result is a simple list\n",
    "thread1 = threading.Thread(target=list_append, args=(size, 1, out_list))\n",
    "thread2 = threading.Thread(target=list_append, args=(size, 1, out_list))\n",
    "\n",
    "start_time = time.time()\n",
    "# Will execute both in parallel\n",
    "thread1.start()\n",
    "thread2.start()\n",
    "# Joins threads back to the parent process\n",
    "thread1.join()\n",
    "thread2.join()\n",
    "print('Threading ellapsed time', time.time() - start_time)\n",
    "print(out_list[:10])"
   ]
  },
  {
   "cell_type": "markdown",
   "metadata": {},
   "source": [
    "#### Multiprocessing"
   ]
  },
  {
   "cell_type": "code",
   "execution_count": 49,
   "metadata": {},
   "outputs": [
    {
     "name": "stdout",
     "output_type": "stream",
     "text": [
      "Multiprocessing ellapsed time 0.24900412559509277\n",
      "[0, 1, 2, 3, 4, 5, 6, 7, 8, 9]\n"
     ]
    }
   ],
   "source": [
    "import multiprocessing\n",
    "\n",
    "# Sharing requires specific mecanism\n",
    "out_list1 = multiprocessing.Manager().list()\n",
    "p1 = multiprocessing.Process(target=list_append, args=(size, 1, None))\n",
    "out_list2 = multiprocessing.Manager().list()\n",
    "p2 = multiprocessing.Process(target=list_append, args=(size, -1, None))\n",
    "\n",
    "start_time = time.time()\n",
    "p1.start()\n",
    "p2.start()\n",
    "p1.join()\n",
    "p2.join()\n",
    "print('Multiprocessing ellapsed time', time.time() - start_time)\n",
    "print(out_list[:10])"
   ]
  },
  {
   "cell_type": "markdown",
   "metadata": {},
   "source": [
    "**Sharing object between process with Managers**"
   ]
  },
  {
   "cell_type": "code",
   "execution_count": 71,
   "metadata": {},
   "outputs": [
    {
     "name": "stdout",
     "output_type": "stream",
     "text": [
      "[]\n",
      "Multiprocessing with shared object ellapsed time 0.2610008716583252\n"
     ]
    }
   ],
   "source": [
    "import multiprocessing\n",
    "import time\n",
    "\n",
    "size = int(size / 100)\n",
    "\n",
    "out_list = multiprocessing.Manager().list()\n",
    "p1 = multiprocessing.Process(target=list_append, args=(size, 1, out_list))\n",
    "p2 = multiprocessing.Process(target=list_append, args=(size, -1, out_list))\n",
    "\n",
    "start_time = time.time()\n",
    "\n",
    "p1.start()\n",
    "p2.start()\n",
    "p1.join()\n",
    "p2.join()\n",
    "\n",
    "print(out_list[:10])\n",
    "print('Multiprocessing with shared object ellapsed time', time.time() - start_time)"
   ]
  },
  {
   "cell_type": "markdown",
   "metadata": {},
   "source": [
    "## Object Oriented Programing (OOP)"
   ]
  },
  {
   "cell_type": "markdown",
   "metadata": {},
   "source": [
    "##### Principles\n",
    "* Encapsulate data (attributes) and code (methods) into objects.\n",
    "* Class = template or blueprint that can be used to create objects.\n",
    "* An object is a specific instance of a class.\n",
    "* Inheritance: OOP allows classes to inherit commonly used state and behaviour from other classes. Reduce code duplication\n",
    "* Polymorphism: (usually obtained through polymorphism) calling code is agnostic as to whether an object belongs to a parent class or one of its descendants (abstraction, modularity). The same method called on 2 objects of 2 different classes will behave differently."
   ]
  },
  {
   "cell_type": "code",
   "execution_count": 76,
   "metadata": {},
   "outputs": [],
   "source": [
    "import math\n",
    "\n",
    "class Shape2D:\n",
    "    def area(self):\n",
    "        raise NotImplementedError()\n",
    "# __init__ is a special method called the constructor"
   ]
  },
  {
   "cell_type": "code",
   "execution_count": 77,
   "metadata": {},
   "outputs": [],
   "source": [
    "# Inheritance + Encapsulation\n",
    "class Square(Shape2D):\n",
    "    def __init__(self, width):\n",
    "        self.width = width\n",
    "        \n",
    "    def area(self):\n",
    "        return self.width ** 2\n",
    "    \n",
    "class Disk(Shape2D):\n",
    "    def __init__(self, radius):\n",
    "        self.radius = radius\n",
    "    \n",
    "    def area(self):\n",
    "        return math.pi * self.radius ** 2"
   ]
  },
  {
   "cell_type": "code",
   "execution_count": 78,
   "metadata": {},
   "outputs": [
    {
     "name": "stdout",
     "output_type": "stream",
     "text": [
      "[4, 28.274333882308138]\n"
     ]
    }
   ],
   "source": [
    "shapes = [Square(2), Disk(3)]\n",
    "\n",
    "# Polymorphism\n",
    "print([s.area() for s in shapes])"
   ]
  },
  {
   "cell_type": "code",
   "execution_count": 80,
   "metadata": {},
   "outputs": [
    {
     "name": "stdout",
     "output_type": "stream",
     "text": [
      "Not Implemented Error\n"
     ]
    }
   ],
   "source": [
    "s = Shape2D()\n",
    "try:\n",
    "    s.area()\n",
    "except NotImplementedError as e:\n",
    "    print('Not Implemented Error')"
   ]
  }
 ],
 "metadata": {
  "kernelspec": {
   "display_name": "Python 3",
   "language": "python",
   "name": "python3"
  },
  "language_info": {
   "codemirror_mode": {
    "name": "ipython",
    "version": 3
   },
   "file_extension": ".py",
   "mimetype": "text/x-python",
   "name": "python",
   "nbconvert_exporter": "python",
   "pygments_lexer": "ipython3",
   "version": "3.7.3"
  }
 },
 "nbformat": 4,
 "nbformat_minor": 2
}

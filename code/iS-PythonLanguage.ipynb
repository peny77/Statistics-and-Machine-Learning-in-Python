{
 "cells": [
  {
   "cell_type": "markdown",
   "metadata": {},
   "source": [
    "# Python Language"
   ]
  },
  {
   "cell_type": "markdown",
   "metadata": {},
   "source": [
    "Test Code By <a href=\"https://www.facebook.com/peny.ismail.77\">Peny Ismail</a> - <a href=\"https://github.com/peny77\">Github</a>"
   ]
  },
  {
   "cell_type": "markdown",
   "metadata": {},
   "source": [
    "### Import Libraries"
   ]
  },
  {
   "cell_type": "markdown",
   "metadata": {},
   "source": [
    "impor generik dari modul matematika"
   ]
  },
  {
   "cell_type": "code",
   "execution_count": 1,
   "metadata": {},
   "outputs": [
    {
     "data": {
      "text/plain": [
       "5.0"
      ]
     },
     "execution_count": 1,
     "metadata": {},
     "output_type": "execute_result"
    }
   ],
   "source": [
    "# impor generik dari modul matematika\n",
    "import math\n",
    "math.sqrt(25)"
   ]
  },
  {
   "cell_type": "markdown",
   "metadata": {},
   "source": [
    "> import fungsi"
   ]
  },
  {
   "cell_type": "code",
   "execution_count": 3,
   "metadata": {},
   "outputs": [
    {
     "data": {
      "text/plain": [
       "5.0"
      ]
     },
     "execution_count": 3,
     "metadata": {},
     "output_type": "execute_result"
    }
   ],
   "source": [
    "# impor fungsi\n",
    "from math import sqrt\n",
    "sqrt(25)"
   ]
  },
  {
   "cell_type": "markdown",
   "metadata": {},
   "source": [
    "> import beberapa fungsi"
   ]
  },
  {
   "cell_type": "code",
   "execution_count": 4,
   "metadata": {},
   "outputs": [
    {
     "data": {
      "text/plain": [
       "0.15425144988758405"
      ]
     },
     "execution_count": 4,
     "metadata": {},
     "output_type": "execute_result"
    }
   ],
   "source": [
    "# impor beberapa fungsi\n",
    "from math import cos, floor\n",
    "cos(30)"
   ]
  },
  {
   "cell_type": "markdown",
   "metadata": {},
   "source": [
    "> Menentukan alias (as)"
   ]
  },
  {
   "cell_type": "code",
   "execution_count": 5,
   "metadata": {},
   "outputs": [],
   "source": [
    "# menentukan alias\n",
    "import numpy as np"
   ]
  },
  {
   "cell_type": "markdown",
   "metadata": {},
   "source": [
    "> Menampilkan semua fungsi dalam modul matematika"
   ]
  },
  {
   "cell_type": "code",
   "execution_count": 6,
   "metadata": {},
   "outputs": [
    {
     "name": "stdout",
     "output_type": "stream",
     "text": [
      "['__doc__', '__loader__', '__name__', '__package__', '__spec__', 'acos', 'acosh', 'asin', 'asinh', 'atan', 'atan2', 'atanh', 'ceil', 'copysign', 'cos', 'cosh', 'degrees', 'e', 'erf', 'erfc', 'exp', 'expm1', 'fabs', 'factorial', 'floor', 'fmod', 'frexp', 'fsum', 'gamma', 'gcd', 'hypot', 'inf', 'isclose', 'isfinite', 'isinf', 'isnan', 'ldexp', 'lgamma', 'log', 'log10', 'log1p', 'log2', 'modf', 'nan', 'pi', 'pow', 'radians', 'remainder', 'sin', 'sinh', 'sqrt', 'tan', 'tanh', 'tau', 'trunc']\n"
     ]
    }
   ],
   "source": [
    "content = dir(math)\n",
    "print(content)"
   ]
  },
  {
   "cell_type": "markdown",
   "metadata": {},
   "source": [
    "### Basic operations"
   ]
  },
  {
   "cell_type": "code",
   "execution_count": 7,
   "metadata": {},
   "outputs": [
    {
     "name": "stdout",
     "output_type": "stream",
     "text": [
      "Add 64\n",
      "Subtract -26\n",
      "Multiply 855\n",
      "Exponent 3498743002442937227729601361122964878585526371203662724899\n",
      "Devide Int 0.4222222222222222\n",
      "Devide 0.4222222222222222\n",
      "True Division 7\n",
      "Floor Division 2\n"
     ]
    }
   ],
   "source": [
    "# Angka\n",
    "print('Add',19 + 45)\n",
    "print('Subtract',19 - 45)\n",
    "print('Multiply',19 * 45)\n",
    "print('Exponent',19 ** 45)\n",
    "print('Devide Int',19 / 45)\n",
    "print('Devide',19 / float(45))\n",
    "print('True Division',45 % 19)\n",
    "print('Floor Division',45 // 19 )"
   ]
  },
  {
   "cell_type": "code",
   "execution_count": 8,
   "metadata": {},
   "outputs": [
    {
     "name": "stdout",
     "output_type": "stream",
     "text": [
      "False\n",
      "True\n",
      "True\n",
      "False\n"
     ]
    }
   ],
   "source": [
    "# Operasi Boolean\n",
    "print(19>45)\n",
    "print(45>=19)\n",
    "print(19!=45)\n",
    "print(19==45)"
   ]
  },
  {
   "cell_type": "markdown",
   "metadata": {},
   "source": [
    "### Data types"
   ]
  },
  {
   "cell_type": "code",
   "execution_count": 9,
   "metadata": {},
   "outputs": [
    {
     "name": "stdout",
     "output_type": "stream",
     "text": [
      "Tipe data <class 'int'>\n",
      "Tipe data <class 'float'>\n",
      "Tipe data <class 'str'>\n",
      "Tipe data <class 'bool'>\n",
      "Tipe data <class 'NoneType'>\n"
     ]
    }
   ],
   "source": [
    "# Tipe data\n",
    "print('Tipe data',type(2))\n",
    "print('Tipe data',type(2.0))\n",
    "print('Tipe data',type('iS'))\n",
    "print('Tipe data',type(True))\n",
    "print('Tipe data',type(None))"
   ]
  },
  {
   "cell_type": "code",
   "execution_count": 10,
   "metadata": {},
   "outputs": [
    {
     "name": "stdout",
     "output_type": "stream",
     "text": [
      "False\n",
      "True\n"
     ]
    }
   ],
   "source": [
    "# Cek tipe data objek\n",
    "print(isinstance(2.0,int))\n",
    "print(isinstance(2.0,(int, float)))"
   ]
  },
  {
   "cell_type": "code",
   "execution_count": 11,
   "metadata": {},
   "outputs": [
    {
     "name": "stdout",
     "output_type": "stream",
     "text": [
      "17.0\n",
      "19\n",
      "19.45\n"
     ]
    }
   ],
   "source": [
    "# Mengkonversi tipe data objek\n",
    "print(float(17))\n",
    "print(int(19.45))\n",
    "print(str(19.45))"
   ]
  },
  {
   "cell_type": "code",
   "execution_count": 12,
   "metadata": {},
   "outputs": [
    {
     "name": "stdout",
     "output_type": "stream",
     "text": [
      "False\n",
      "False\n",
      "String Kosong False\n",
      "List Kosong False\n",
      "Dictionary Kosong False\n"
     ]
    }
   ],
   "source": [
    "# zero, None, dan empty dikonversi ke nilai False\n",
    "print(bool(0))\n",
    "print(bool(None))\n",
    "print('String Kosong',bool(''))\n",
    "print('List Kosong',bool([]))\n",
    "print('Dictionary Kosong',bool({}))"
   ]
  },
  {
   "cell_type": "code",
   "execution_count": 13,
   "metadata": {},
   "outputs": [
    {
     "name": "stdout",
     "output_type": "stream",
     "text": [
      "True\n",
      "True\n",
      "True\n"
     ]
    }
   ],
   "source": [
    "# non-empty dan non-zeros dikonversi ke nilai True\n",
    "print(bool(19))\n",
    "print(bool('Kesatuan'))\n",
    "print(bool(45))"
   ]
  },
  {
   "cell_type": "markdown",
   "metadata": {},
   "source": [
    "### List"
   ]
  },
  {
   "cell_type": "markdown",
   "metadata": {},
   "source": [
    "> Objek yang berbeda dikategorikan dalam urutan tertentu, daftar diurutkan, dapat diubah(menambah, menghapus dan mengubah daftar objek)"
   ]
  },
  {
   "cell_type": "code",
   "execution_count": 14,
   "metadata": {},
   "outputs": [
    {
     "name": "stdout",
     "output_type": "stream",
     "text": [
      "[]\n"
     ]
    }
   ],
   "source": [
    "# membuat list kosong\n",
    "list_kosong = []\n",
    "list_kosong = list()\n",
    "print(list_kosong)"
   ]
  },
  {
   "cell_type": "code",
   "execution_count": 15,
   "metadata": {},
   "outputs": [
    {
     "name": "stdout",
     "output_type": "stream",
     "text": [
      "Rock\n",
      "3\n"
     ]
    }
   ],
   "source": [
    "playlist = ['Rock','Pop','Metal']\n",
    "print(playlist[0])\n",
    "print(len(playlist))"
   ]
  },
  {
   "cell_type": "code",
   "execution_count": 28,
   "metadata": {},
   "outputs": [
    {
     "data": {
      "text/plain": [
       "['Rockdut',\n",
       " 'Rock',\n",
       " 'Pop',\n",
       " 'Trash',\n",
       " 'Langgam',\n",
       " 'Slow Rock',\n",
       " 'Campur Sari',\n",
       " 'Metal',\n",
       " 'Hadrah',\n",
       " 'Akustik']"
      ]
     },
     "execution_count": 28,
     "metadata": {},
     "output_type": "execute_result"
    }
   ],
   "source": [
    "# Memodifikasi list\n",
    "playlist.append('Metal')\n",
    "playlist.extend(['Hadrah','Akustik'])\n",
    "playlist.insert(0,'Rockdut')\n",
    "playlist"
   ]
  },
  {
   "cell_type": "code",
   "execution_count": 29,
   "metadata": {},
   "outputs": [
    {
     "data": {
      "text/plain": [
       "['Rockdut',\n",
       " 'Rock',\n",
       " 'Pop',\n",
       " 'Trash',\n",
       " 'Langgam',\n",
       " 'Slow Rock',\n",
       " 'Campur Sari',\n",
       " 'Metal',\n",
       " 'Hadrah',\n",
       " 'Akustik']"
      ]
     },
     "execution_count": 29,
     "metadata": {},
     "output_type": "execute_result"
    }
   ],
   "source": [
    "# Menghapus list\n",
    "playlist.remove('Hadrah')\n",
    "playlist.pop(3)\n",
    "del playlist[6]\n",
    "playlist[0] = 'Trash'\n",
    "playlist"
   ]
  },
  {
   "cell_type": "code",
   "execution_count": 30,
   "metadata": {},
   "outputs": [
    {
     "data": {
      "text/plain": [
       "['Rockdut',\n",
       " 'Rock',\n",
       " 'Pop',\n",
       " 'Trash',\n",
       " 'Langgam',\n",
       " 'Slow Rock',\n",
       " 'Campur Sari',\n",
       " 'Metal',\n",
       " 'Hadrah',\n",
       " 'Akustik',\n",
       " 'SKA',\n",
       " 'Remix']"
      ]
     },
     "execution_count": 30,
     "metadata": {},
     "output_type": "execute_result"
    }
   ],
   "source": [
    "# Menambah list ke dalam playlist\n",
    "tambah_playlist = playlist + ['SKA','Remix']\n",
    "tambah_playlist"
   ]
  },
  {
   "cell_type": "code",
   "execution_count": 31,
   "metadata": {},
   "outputs": [
    {
     "data": {
      "text/plain": [
       "1"
      ]
     },
     "execution_count": 31,
     "metadata": {},
     "output_type": "execute_result"
    }
   ],
   "source": [
    "playlist.count('Rock')"
   ]
  },
  {
   "cell_type": "code",
   "execution_count": 32,
   "metadata": {},
   "outputs": [
    {
     "data": {
      "text/plain": [
       "4"
      ]
     },
     "execution_count": 32,
     "metadata": {},
     "output_type": "execute_result"
    }
   ],
   "source": [
    "# Untuk mengetahui index\n",
    "playlist.index('Langgam')"
   ]
  },
  {
   "cell_type": "code",
   "execution_count": 33,
   "metadata": {},
   "outputs": [
    {
     "data": {
      "text/plain": [
       "'Rockdut'"
      ]
     },
     "execution_count": 33,
     "metadata": {},
     "output_type": "execute_result"
    }
   ],
   "source": [
    "# Mengiris list\n",
    "playlist[0]"
   ]
  },
  {
   "cell_type": "code",
   "execution_count": 34,
   "metadata": {},
   "outputs": [
    {
     "name": "stdout",
     "output_type": "stream",
     "text": [
      "['Rockdut', 'Rock', 'Pop', 'Trash', 'Langgam', 'Slow Rock', 'Campur Sari', 'Metal', 'Hadrah', 'Akustik']\n",
      "['Rockdut', 'Rock', 'Pop']\n",
      "['Rockdut', 'Rock', 'Pop']\n",
      "['Trash', 'Langgam', 'Slow Rock', 'Campur Sari', 'Metal', 'Hadrah', 'Akustik']\n",
      "Akustik\n",
      "['Rockdut', 'Pop', 'Langgam', 'Campur Sari', 'Hadrah']\n",
      "['Akustik', 'Hadrah', 'Metal', 'Campur Sari', 'Slow Rock', 'Langgam', 'Trash', 'Pop', 'Rock', 'Rockdut']\n"
     ]
    }
   ],
   "source": [
    "print(playlist)\n",
    "print(playlist[0:3])\n",
    "print(playlist[:3])\n",
    "print(playlist[3:])\n",
    "print(playlist[-1])\n",
    "print(playlist[::2])\n",
    "print(playlist[::-1])"
   ]
  },
  {
   "cell_type": "code",
   "execution_count": 38,
   "metadata": {},
   "outputs": [
    {
     "name": "stdout",
     "output_type": "stream",
     "text": [
      "['Trash', 'Slow Rock', 'Rockdut', 'Rock', 'Pop', 'Metal', 'Langgam', 'Hadrah', 'Campur Sari', 'Akustik']\n"
     ]
    }
   ],
   "source": [
    "# Metode alternatif untuk menampilkan list dari belakang\n",
    "print(list(reversed(playlist)))"
   ]
  },
  {
   "cell_type": "code",
   "execution_count": 41,
   "metadata": {},
   "outputs": [
    {
     "name": "stdout",
     "output_type": "stream",
     "text": [
      "['Akustik', 'Campur Sari', 'Hadrah', 'Langgam', 'Metal', 'Pop', 'Rock', 'Rockdut', 'Slow Rock', 'Trash']\n",
      "['Pop', 'Rock', 'Metal', 'Trash', 'Hadrah', 'Akustik', 'Langgam', 'Rockdut', 'Slow Rock', 'Campur Sari']\n"
     ]
    }
   ],
   "source": [
    "print(sorted(playlist))\n",
    "print(sorted(playlist, reversed=True))\n",
    "print(sorted(playlist, key=len))"
   ]
  },
  {
   "cell_type": "markdown",
   "metadata": {},
   "source": [
    "> Membandingkan nomer sama dengan nomer"
   ]
  },
  {
   "cell_type": "code",
   "execution_count": 42,
   "metadata": {},
   "outputs": [
    {
     "name": "stdout",
     "output_type": "stream",
     "text": [
      "[0, 2, 3]\n"
     ]
    }
   ],
   "source": [
    "nomer = [1, 2, 3]\n",
    "nomer_sama = nomer\n",
    "nomer_sama[0] = 0\n",
    "print(nomer_sama)"
   ]
  },
  {
   "cell_type": "code",
   "execution_count": 43,
   "metadata": {},
   "outputs": [
    {
     "name": "stdout",
     "output_type": "stream",
     "text": [
      "[0, 2, 3]\n"
     ]
    }
   ],
   "source": [
    "angka_baru = nomer.copy()\n",
    "angka_baru = nomer[:]\n",
    "angka_baru = list(nomer)\n",
    "print(angka_baru)"
   ]
  },
  {
   "cell_type": "code",
   "execution_count": 44,
   "metadata": {},
   "outputs": [
    {
     "data": {
      "text/plain": [
       "True"
      ]
     },
     "execution_count": 44,
     "metadata": {},
     "output_type": "execute_result"
    }
   ],
   "source": [
    "id(nomer) == id(angka_baru)\n",
    "nomer is nomer_sama"
   ]
  },
  {
   "cell_type": "code",
   "execution_count": 45,
   "metadata": {},
   "outputs": [
    {
     "data": {
      "text/plain": [
       "False"
      ]
     },
     "execution_count": 45,
     "metadata": {},
     "output_type": "execute_result"
    }
   ],
   "source": [
    "nomer is angka_baru"
   ]
  },
  {
   "cell_type": "code",
   "execution_count": 46,
   "metadata": {},
   "outputs": [
    {
     "data": {
      "text/plain": [
       "True"
      ]
     },
     "execution_count": 46,
     "metadata": {},
     "output_type": "execute_result"
    }
   ],
   "source": [
    "nomer == nomer_sama"
   ]
  },
  {
   "cell_type": "code",
   "execution_count": 47,
   "metadata": {},
   "outputs": [
    {
     "data": {
      "text/plain": [
       "True"
      ]
     },
     "execution_count": 47,
     "metadata": {},
     "output_type": "execute_result"
    }
   ],
   "source": [
    "nomer == angka_baru"
   ]
  }
 ],
 "metadata": {
  "kernelspec": {
   "display_name": "Python 3",
   "language": "python",
   "name": "python3"
  },
  "language_info": {
   "codemirror_mode": {
    "name": "ipython",
    "version": 3
   },
   "file_extension": ".py",
   "mimetype": "text/x-python",
   "name": "python",
   "nbconvert_exporter": "python",
   "pygments_lexer": "ipython3",
   "version": "3.7.3"
  }
 },
 "nbformat": 4,
 "nbformat_minor": 2
}
